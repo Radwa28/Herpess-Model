{
  "nbformat": 4,
  "nbformat_minor": 0,
  "metadata": {
    "colab": {
      "provenance": []
    },
    "kernelspec": {
      "name": "python3",
      "display_name": "Python 3"
    },
    "language_info": {
      "name": "python"
    }
  },
  "cells": [
    {
      "cell_type": "markdown",
      "source": [
        "# Data Wrangling"
      ],
      "metadata": {
        "id": "n8-bqhLC6E-a"
      }
    },
    {
      "cell_type": "code",
      "execution_count": 3,
      "metadata": {
        "id": "XYiimQPuvb2p"
      },
      "outputs": [],
      "source": [
        "import pandas as pd\n",
        "import numpy as np\n",
        "import matplotlib.pyplot as plt\n",
        "import seaborn as sns\n",
        "import missingno as msng\n",
        "import nltk\n",
        "import re\n",
        "from nltk.corpus import stopwords\n",
        "from nltk.tokenize import word_tokenize\n",
        "from nltk.stem import PorterStemmer\n",
        "from nltk.stem import WordNetLemmatizer\n",
        "from sklearn.model_selection import train_test_split\n",
        "import warnings ## used to ignore warnings\n",
        "warnings.filterwarnings('ignore')\n",
        "#to plot 3D\n",
        "from mpl_toolkits.mplot3d import Axes3D\n",
        "%matplotlib inline"
      ]
    },
    {
      "cell_type": "code",
      "source": [
        "df=pd.read_csv(\"/content/stories_art-et-culture.csv\")"
      ],
      "metadata": {
        "id": "x8RUclar1qQO"
      },
      "execution_count": 5,
      "outputs": []
    },
    {
      "cell_type": "code",
      "source": [
        "df.head()"
      ],
      "metadata": {
        "colab": {
          "base_uri": "https://localhost:8080/",
          "height": 206
        },
        "id": "ciblwbnJ2B7A",
        "outputId": "65afc48c-2f76-422f-8adb-19f4ef367170"
      },
      "execution_count": 6,
      "outputs": [
        {
          "output_type": "execute_result",
          "data": {
            "text/plain": [
              "   Unnamed: 0                                id  \\\n",
              "0           0  f06aa998054e11eba66e646e69d991ea   \n",
              "1           1  f1cf1b9c054e11ebb718646e69d991ea   \n",
              "2           2  f2d282a4054e11eb800f646e69d991ea   \n",
              "3           3  f3f46cac054e11eba403646e69d991ea   \n",
              "4           4  f50f0476054e11eba31b646e69d991ea   \n",
              "\n",
              "                                               title  \\\n",
              "0     \"بيت الشعر\" يسائل وزير الثقافة عن كوابيس سوداء   \n",
              "1       مهرجان \"سينما المؤلّف\" يستحضر روح ثريا جبران   \n",
              "2  فيلم \"بدون عنف\" لهشام العسري ..\"كعب الحذاء ووا...   \n",
              "3  \"تنين ووهان\" .. مريم أيت أحمد توقِّع أولى \"روا...   \n",
              "4        مسكر يتخلّى عن دعم \"الوزارة\" بسبب \"الجمهور\"   \n",
              "\n",
              "                            date                 author  \\\n",
              "0  الجمعة 02 أكتوبر 2020 - 23:19       هسبريس من الرباط   \n",
              "1  الجمعة 02 أكتوبر 2020 - 07:26       هسبريس من الرباط   \n",
              "2  الجمعة 02 أكتوبر 2020 - 04:00        عفيفة الحسينات*   \n",
              "3  الجمعة 02 أكتوبر 2020 - 02:00  حاورَها: وائل بورشاشن   \n",
              "4  الخميس 01 أكتوبر 2020 - 19:40       هسبريس من الرباط   \n",
              "\n",
              "                                               story           topic  \n",
              "0  وجه \"بيت الشعر في المغرب\" إلى وزير الثقافة وال...  art-et-culture  \n",
              "1  في ظلّ استمرار حالة الطوارئ الصحية المرتبطة بج...  art-et-culture  \n",
              "2  تشير مشاهدة فيلم قصير ضمن الثلاثية الأخيرة للم...  art-et-culture  \n",
              "3  مِن قَلب أيّام \"الحَجْر\"، رأتِ النّورَ الفصول ...  art-et-culture  \n",
              "4  أعلن الفنان المغربيّ سعيد مسكر تخليه عن مبلغ ا...  art-et-culture  "
            ],
            "text/html": [
              "\n",
              "\n",
              "  <div id=\"df-9589d3ae-d097-4e0c-90d9-aa7a24aa9705\">\n",
              "    <div class=\"colab-df-container\">\n",
              "      <div>\n",
              "<style scoped>\n",
              "    .dataframe tbody tr th:only-of-type {\n",
              "        vertical-align: middle;\n",
              "    }\n",
              "\n",
              "    .dataframe tbody tr th {\n",
              "        vertical-align: top;\n",
              "    }\n",
              "\n",
              "    .dataframe thead th {\n",
              "        text-align: right;\n",
              "    }\n",
              "</style>\n",
              "<table border=\"1\" class=\"dataframe\">\n",
              "  <thead>\n",
              "    <tr style=\"text-align: right;\">\n",
              "      <th></th>\n",
              "      <th>Unnamed: 0</th>\n",
              "      <th>id</th>\n",
              "      <th>title</th>\n",
              "      <th>date</th>\n",
              "      <th>author</th>\n",
              "      <th>story</th>\n",
              "      <th>topic</th>\n",
              "    </tr>\n",
              "  </thead>\n",
              "  <tbody>\n",
              "    <tr>\n",
              "      <th>0</th>\n",
              "      <td>0</td>\n",
              "      <td>f06aa998054e11eba66e646e69d991ea</td>\n",
              "      <td>\"بيت الشعر\" يسائل وزير الثقافة عن كوابيس سوداء</td>\n",
              "      <td>الجمعة 02 أكتوبر 2020 - 23:19</td>\n",
              "      <td>هسبريس من الرباط</td>\n",
              "      <td>وجه \"بيت الشعر في المغرب\" إلى وزير الثقافة وال...</td>\n",
              "      <td>art-et-culture</td>\n",
              "    </tr>\n",
              "    <tr>\n",
              "      <th>1</th>\n",
              "      <td>1</td>\n",
              "      <td>f1cf1b9c054e11ebb718646e69d991ea</td>\n",
              "      <td>مهرجان \"سينما المؤلّف\" يستحضر روح ثريا جبران</td>\n",
              "      <td>الجمعة 02 أكتوبر 2020 - 07:26</td>\n",
              "      <td>هسبريس من الرباط</td>\n",
              "      <td>في ظلّ استمرار حالة الطوارئ الصحية المرتبطة بج...</td>\n",
              "      <td>art-et-culture</td>\n",
              "    </tr>\n",
              "    <tr>\n",
              "      <th>2</th>\n",
              "      <td>2</td>\n",
              "      <td>f2d282a4054e11eb800f646e69d991ea</td>\n",
              "      <td>فيلم \"بدون عنف\" لهشام العسري ..\"كعب الحذاء ووا...</td>\n",
              "      <td>الجمعة 02 أكتوبر 2020 - 04:00</td>\n",
              "      <td>عفيفة الحسينات*</td>\n",
              "      <td>تشير مشاهدة فيلم قصير ضمن الثلاثية الأخيرة للم...</td>\n",
              "      <td>art-et-culture</td>\n",
              "    </tr>\n",
              "    <tr>\n",
              "      <th>3</th>\n",
              "      <td>3</td>\n",
              "      <td>f3f46cac054e11eba403646e69d991ea</td>\n",
              "      <td>\"تنين ووهان\" .. مريم أيت أحمد توقِّع أولى \"روا...</td>\n",
              "      <td>الجمعة 02 أكتوبر 2020 - 02:00</td>\n",
              "      <td>حاورَها: وائل بورشاشن</td>\n",
              "      <td>مِن قَلب أيّام \"الحَجْر\"، رأتِ النّورَ الفصول ...</td>\n",
              "      <td>art-et-culture</td>\n",
              "    </tr>\n",
              "    <tr>\n",
              "      <th>4</th>\n",
              "      <td>4</td>\n",
              "      <td>f50f0476054e11eba31b646e69d991ea</td>\n",
              "      <td>مسكر يتخلّى عن دعم \"الوزارة\" بسبب \"الجمهور\"</td>\n",
              "      <td>الخميس 01 أكتوبر 2020 - 19:40</td>\n",
              "      <td>هسبريس من الرباط</td>\n",
              "      <td>أعلن الفنان المغربيّ سعيد مسكر تخليه عن مبلغ ا...</td>\n",
              "      <td>art-et-culture</td>\n",
              "    </tr>\n",
              "  </tbody>\n",
              "</table>\n",
              "</div>\n",
              "      <button class=\"colab-df-convert\" onclick=\"convertToInteractive('df-9589d3ae-d097-4e0c-90d9-aa7a24aa9705')\"\n",
              "              title=\"Convert this dataframe to an interactive table.\"\n",
              "              style=\"display:none;\">\n",
              "\n",
              "  <svg xmlns=\"http://www.w3.org/2000/svg\" height=\"24px\"viewBox=\"0 0 24 24\"\n",
              "       width=\"24px\">\n",
              "    <path d=\"M0 0h24v24H0V0z\" fill=\"none\"/>\n",
              "    <path d=\"M18.56 5.44l.94 2.06.94-2.06 2.06-.94-2.06-.94-.94-2.06-.94 2.06-2.06.94zm-11 1L8.5 8.5l.94-2.06 2.06-.94-2.06-.94L8.5 2.5l-.94 2.06-2.06.94zm10 10l.94 2.06.94-2.06 2.06-.94-2.06-.94-.94-2.06-.94 2.06-2.06.94z\"/><path d=\"M17.41 7.96l-1.37-1.37c-.4-.4-.92-.59-1.43-.59-.52 0-1.04.2-1.43.59L10.3 9.45l-7.72 7.72c-.78.78-.78 2.05 0 2.83L4 21.41c.39.39.9.59 1.41.59.51 0 1.02-.2 1.41-.59l7.78-7.78 2.81-2.81c.8-.78.8-2.07 0-2.86zM5.41 20L4 18.59l7.72-7.72 1.47 1.35L5.41 20z\"/>\n",
              "  </svg>\n",
              "      </button>\n",
              "\n",
              "\n",
              "\n",
              "    <div id=\"df-f439665a-02df-4c0d-a5fc-86ab952c19e7\">\n",
              "      <button class=\"colab-df-quickchart\" onclick=\"quickchart('df-f439665a-02df-4c0d-a5fc-86ab952c19e7')\"\n",
              "              title=\"Suggest charts.\"\n",
              "              style=\"display:none;\">\n",
              "\n",
              "<svg xmlns=\"http://www.w3.org/2000/svg\" height=\"24px\"viewBox=\"0 0 24 24\"\n",
              "     width=\"24px\">\n",
              "    <g>\n",
              "        <path d=\"M19 3H5c-1.1 0-2 .9-2 2v14c0 1.1.9 2 2 2h14c1.1 0 2-.9 2-2V5c0-1.1-.9-2-2-2zM9 17H7v-7h2v7zm4 0h-2V7h2v10zm4 0h-2v-4h2v4z\"/>\n",
              "    </g>\n",
              "</svg>\n",
              "      </button>\n",
              "    </div>\n",
              "\n",
              "<style>\n",
              "  .colab-df-quickchart {\n",
              "    background-color: #E8F0FE;\n",
              "    border: none;\n",
              "    border-radius: 50%;\n",
              "    cursor: pointer;\n",
              "    display: none;\n",
              "    fill: #1967D2;\n",
              "    height: 32px;\n",
              "    padding: 0 0 0 0;\n",
              "    width: 32px;\n",
              "  }\n",
              "\n",
              "  .colab-df-quickchart:hover {\n",
              "    background-color: #E2EBFA;\n",
              "    box-shadow: 0px 1px 2px rgba(60, 64, 67, 0.3), 0px 1px 3px 1px rgba(60, 64, 67, 0.15);\n",
              "    fill: #174EA6;\n",
              "  }\n",
              "\n",
              "  [theme=dark] .colab-df-quickchart {\n",
              "    background-color: #3B4455;\n",
              "    fill: #D2E3FC;\n",
              "  }\n",
              "\n",
              "  [theme=dark] .colab-df-quickchart:hover {\n",
              "    background-color: #434B5C;\n",
              "    box-shadow: 0px 1px 3px 1px rgba(0, 0, 0, 0.15);\n",
              "    filter: drop-shadow(0px 1px 2px rgba(0, 0, 0, 0.3));\n",
              "    fill: #FFFFFF;\n",
              "  }\n",
              "</style>\n",
              "\n",
              "    <script>\n",
              "      async function quickchart(key) {\n",
              "        const containerElement = document.querySelector('#' + key);\n",
              "        const charts = await google.colab.kernel.invokeFunction(\n",
              "            'suggestCharts', [key], {});\n",
              "      }\n",
              "    </script>\n",
              "\n",
              "      <script>\n",
              "\n",
              "function displayQuickchartButton(domScope) {\n",
              "  let quickchartButtonEl =\n",
              "    domScope.querySelector('#df-f439665a-02df-4c0d-a5fc-86ab952c19e7 button.colab-df-quickchart');\n",
              "  quickchartButtonEl.style.display =\n",
              "    google.colab.kernel.accessAllowed ? 'block' : 'none';\n",
              "}\n",
              "\n",
              "        displayQuickchartButton(document);\n",
              "      </script>\n",
              "      <style>\n",
              "    .colab-df-container {\n",
              "      display:flex;\n",
              "      flex-wrap:wrap;\n",
              "      gap: 12px;\n",
              "    }\n",
              "\n",
              "    .colab-df-convert {\n",
              "      background-color: #E8F0FE;\n",
              "      border: none;\n",
              "      border-radius: 50%;\n",
              "      cursor: pointer;\n",
              "      display: none;\n",
              "      fill: #1967D2;\n",
              "      height: 32px;\n",
              "      padding: 0 0 0 0;\n",
              "      width: 32px;\n",
              "    }\n",
              "\n",
              "    .colab-df-convert:hover {\n",
              "      background-color: #E2EBFA;\n",
              "      box-shadow: 0px 1px 2px rgba(60, 64, 67, 0.3), 0px 1px 3px 1px rgba(60, 64, 67, 0.15);\n",
              "      fill: #174EA6;\n",
              "    }\n",
              "\n",
              "    [theme=dark] .colab-df-convert {\n",
              "      background-color: #3B4455;\n",
              "      fill: #D2E3FC;\n",
              "    }\n",
              "\n",
              "    [theme=dark] .colab-df-convert:hover {\n",
              "      background-color: #434B5C;\n",
              "      box-shadow: 0px 1px 3px 1px rgba(0, 0, 0, 0.15);\n",
              "      filter: drop-shadow(0px 1px 2px rgba(0, 0, 0, 0.3));\n",
              "      fill: #FFFFFF;\n",
              "    }\n",
              "  </style>\n",
              "\n",
              "      <script>\n",
              "        const buttonEl =\n",
              "          document.querySelector('#df-9589d3ae-d097-4e0c-90d9-aa7a24aa9705 button.colab-df-convert');\n",
              "        buttonEl.style.display =\n",
              "          google.colab.kernel.accessAllowed ? 'block' : 'none';\n",
              "\n",
              "        async function convertToInteractive(key) {\n",
              "          const element = document.querySelector('#df-9589d3ae-d097-4e0c-90d9-aa7a24aa9705');\n",
              "          const dataTable =\n",
              "            await google.colab.kernel.invokeFunction('convertToInteractive',\n",
              "                                                     [key], {});\n",
              "          if (!dataTable) return;\n",
              "\n",
              "          const docLinkHtml = 'Like what you see? Visit the ' +\n",
              "            '<a target=\"_blank\" href=https://colab.research.google.com/notebooks/data_table.ipynb>data table notebook</a>'\n",
              "            + ' to learn more about interactive tables.';\n",
              "          element.innerHTML = '';\n",
              "          dataTable['output_type'] = 'display_data';\n",
              "          await google.colab.output.renderOutput(dataTable, element);\n",
              "          const docLink = document.createElement('div');\n",
              "          docLink.innerHTML = docLinkHtml;\n",
              "          element.appendChild(docLink);\n",
              "        }\n",
              "      </script>\n",
              "    </div>\n",
              "  </div>\n"
            ]
          },
          "metadata": {},
          "execution_count": 6
        }
      ]
    },
    {
      "cell_type": "code",
      "source": [
        "df.info()"
      ],
      "metadata": {
        "colab": {
          "base_uri": "https://localhost:8080/"
        },
        "id": "vqLZ0o4d2Sg8",
        "outputId": "1451b1fa-372a-4462-9270-4dc548bd7b64"
      },
      "execution_count": 7,
      "outputs": [
        {
          "output_type": "stream",
          "name": "stdout",
          "text": [
            "<class 'pandas.core.frame.DataFrame'>\n",
            "RangeIndex: 1000 entries, 0 to 999\n",
            "Data columns (total 7 columns):\n",
            " #   Column      Non-Null Count  Dtype \n",
            "---  ------      --------------  ----- \n",
            " 0   Unnamed: 0  1000 non-null   int64 \n",
            " 1   id          1000 non-null   object\n",
            " 2   title       1000 non-null   object\n",
            " 3   date        1000 non-null   object\n",
            " 4   author      1000 non-null   object\n",
            " 5   story       1000 non-null   object\n",
            " 6   topic       1000 non-null   object\n",
            "dtypes: int64(1), object(6)\n",
            "memory usage: 54.8+ KB\n"
          ]
        }
      ]
    },
    {
      "cell_type": "code",
      "source": [
        "df.shape"
      ],
      "metadata": {
        "colab": {
          "base_uri": "https://localhost:8080/"
        },
        "id": "aGHWx7wX6Qz7",
        "outputId": "030d4046-e3c8-4657-f494-e36d45ff4ce8"
      },
      "execution_count": 8,
      "outputs": [
        {
          "output_type": "execute_result",
          "data": {
            "text/plain": [
              "(1000, 7)"
            ]
          },
          "metadata": {},
          "execution_count": 8
        }
      ]
    },
    {
      "cell_type": "code",
      "source": [
        "df.isna().all()"
      ],
      "metadata": {
        "colab": {
          "base_uri": "https://localhost:8080/"
        },
        "id": "SK5_39ti6AZ1",
        "outputId": "1c7c1c10-f2f8-422f-8958-d6f208e43a4e"
      },
      "execution_count": 9,
      "outputs": [
        {
          "output_type": "execute_result",
          "data": {
            "text/plain": [
              "Unnamed: 0    False\n",
              "id            False\n",
              "title         False\n",
              "date          False\n",
              "author        False\n",
              "story         False\n",
              "topic         False\n",
              "dtype: bool"
            ]
          },
          "metadata": {},
          "execution_count": 9
        }
      ]
    },
    {
      "cell_type": "markdown",
      "source": [
        "Non Duplicated values"
      ],
      "metadata": {
        "id": "TzUBDCdL6T5y"
      }
    },
    {
      "cell_type": "code",
      "source": [
        "df.duplicated().sum()"
      ],
      "metadata": {
        "colab": {
          "base_uri": "https://localhost:8080/"
        },
        "id": "UUBZD7eK7XqA",
        "outputId": "3a359427-9eaa-48a5-dbc5-a71953ec1a60"
      },
      "execution_count": 10,
      "outputs": [
        {
          "output_type": "execute_result",
          "data": {
            "text/plain": [
              "0"
            ]
          },
          "metadata": {},
          "execution_count": 10
        }
      ]
    },
    {
      "cell_type": "code",
      "source": [
        "#delet unuseful columns\n",
        "df.drop('id',axis=1,inplace=True)\n"
      ],
      "metadata": {
        "id": "89q8esZ7zi9l"
      },
      "execution_count": 11,
      "outputs": []
    },
    {
      "cell_type": "code",
      "source": [
        "df.drop('Unnamed: 0',axis=1,inplace= True)"
      ],
      "metadata": {
        "id": "rPI6cFCO0YFL"
      },
      "execution_count": 12,
      "outputs": []
    },
    {
      "cell_type": "code",
      "source": [
        "df.columns"
      ],
      "metadata": {
        "colab": {
          "base_uri": "https://localhost:8080/"
        },
        "id": "Qly6XI4j0Uvx",
        "outputId": "cea5925d-1c32-46cd-b76f-6846b74355a3"
      },
      "execution_count": 13,
      "outputs": [
        {
          "output_type": "execute_result",
          "data": {
            "text/plain": [
              "Index(['title', 'date', 'author', 'story', 'topic'], dtype='object')"
            ]
          },
          "metadata": {},
          "execution_count": 13
        }
      ]
    },
    {
      "cell_type": "markdown",
      "source": [
        "Non duplicated values"
      ],
      "metadata": {
        "id": "wvHuT6k47-Tw"
      }
    },
    {
      "cell_type": "markdown",
      "source": [
        "### Cleaning and processing data"
      ],
      "metadata": {
        "id": "Qdm2_dfCIjmr"
      }
    },
    {
      "cell_type": "code",
      "source": [
        "# Expanding Contractions (you may need to define the contraction mapping)\n",
        "contraction_mapping = {\n",
        "    # Define your contraction mapping here\n",
        "    \"don't\": \"do not\",\n",
        "    \"can't\": \"cannot\",\n",
        "    # Add more contractions and their expansions as needed\n",
        "}"
      ],
      "metadata": {
        "id": "Hb5ViVbx7ti-"
      },
      "execution_count": 14,
      "outputs": []
    },
    {
      "cell_type": "code",
      "source": [
        "def expand_contractions(text):\n",
        "    for word in text.split():\n",
        "        if word.lower() in contraction_mapping:\n",
        "            text = text.replace(word, contraction_mapping[word.lower()])\n",
        "    return text"
      ],
      "metadata": {
        "id": "fWNUS11R0vYw"
      },
      "execution_count": 15,
      "outputs": []
    },
    {
      "cell_type": "code",
      "source": [
        "# Lower casing\n",
        "df['title'] = df['title'].str.lower()\n",
        "df['author'] = df['author'].str.lower()\n",
        "df['story'] = df['story'].str.lower()\n",
        "df['topic'] = df['topic'].str.lower()"
      ],
      "metadata": {
        "id": "zJwU8CB-0yV-"
      },
      "execution_count": 16,
      "outputs": []
    },
    {
      "cell_type": "code",
      "source": [
        "# Removing punctuations\n",
        "def remove_punctuations(text):\n",
        "    return re.sub(r'[^\\w\\s]', '', text)\n",
        "\n",
        "df['title'] = df['title'].apply(remove_punctuations)\n",
        "df['author'] = df['author'].apply(remove_punctuations)\n",
        "df['story'] = df['story'].apply(remove_punctuations)"
      ],
      "metadata": {
        "id": "tAiluQqq00cS"
      },
      "execution_count": 17,
      "outputs": []
    },
    {
      "cell_type": "code",
      "source": [
        "# Removing words and digits containing digits\n",
        "def remove_words_with_digits(text):\n",
        "    return re.sub(r'\\w*\\d\\w*', '', text)\n",
        "\n",
        "df['title'] = df['title'].apply(remove_words_with_digits)\n",
        "df['author'] = df['author'].apply(remove_words_with_digits)\n",
        "df['story'] = df['story'].apply(remove_words_with_digits)"
      ],
      "metadata": {
        "id": "sfpHdQLy00Y2"
      },
      "execution_count": 18,
      "outputs": []
    },
    {
      "cell_type": "code",
      "source": [
        "nltk.download('punkt')\n",
        "nltk.download('wordnet')"
      ],
      "metadata": {
        "colab": {
          "base_uri": "https://localhost:8080/"
        },
        "id": "KORlnCOD15ZY",
        "outputId": "ea88c9e0-5d3b-4047-944b-7c5e3c2ffe85"
      },
      "execution_count": 19,
      "outputs": [
        {
          "output_type": "stream",
          "name": "stderr",
          "text": [
            "[nltk_data] Downloading package punkt to /root/nltk_data...\n",
            "[nltk_data]   Unzipping tokenizers/punkt.zip.\n",
            "[nltk_data] Downloading package wordnet to /root/nltk_data...\n"
          ]
        },
        {
          "output_type": "execute_result",
          "data": {
            "text/plain": [
              "True"
            ]
          },
          "metadata": {},
          "execution_count": 19
        }
      ]
    },
    {
      "cell_type": "code",
      "source": [
        "# Removing stopwords\n",
        "nltk.download('stopwords')\n",
        "stop_words = set(stopwords.words('english'))\n",
        "\n",
        "def remove_stopwords(text):\n",
        "    words = word_tokenize(text)\n",
        "    filtered_words = [word for word in words if word.lower() not in stop_words]\n",
        "    return ' '.join(filtered_words)\n",
        "\n",
        "df['title'] = df['title'].apply(remove_stopwords)\n",
        "df['author'] = df['author'].apply(remove_stopwords)\n",
        "df['story'] = df['story'].apply(remove_stopwords)"
      ],
      "metadata": {
        "colab": {
          "base_uri": "https://localhost:8080/"
        },
        "id": "5VkPPke200WI",
        "outputId": "c88a746e-e9f1-43e6-f656-34dc5a1a738b"
      },
      "execution_count": 20,
      "outputs": [
        {
          "output_type": "stream",
          "name": "stderr",
          "text": [
            "[nltk_data] Downloading package stopwords to /root/nltk_data...\n",
            "[nltk_data]   Unzipping corpora/stopwords.zip.\n"
          ]
        }
      ]
    },
    {
      "cell_type": "code",
      "source": [
        "# Rephrasing text (if needed, you may use a predefined mapping for rephrasing)\n",
        "rephrase_mapping = {\n",
        "    # Define your rephrasing mapping here\n",
        "}\n",
        "\n",
        "def rephrase_text(text):\n",
        "    for word in text.split():\n",
        "        if word.lower() in rephrase_mapping:\n",
        "            text = text.replace(word, rephrase_mapping[word.lower()])\n",
        "    return text\n",
        "\n",
        "df['title'] = df['title'].apply(rephrase_text)\n",
        "df['author'] = df['author'].apply(rephrase_text)\n",
        "df['story'] = df['story'].apply(rephrase_text)"
      ],
      "metadata": {
        "id": "dRQrSffR00Sr"
      },
      "execution_count": 21,
      "outputs": []
    },
    {
      "cell_type": "code",
      "source": [
        "# Stemming and Lemmatization\n",
        "nltk.download('punkt')\n",
        "nltk.download('wordnet')\n",
        "stemmer = PorterStemmer()\n",
        "lemmatizer = WordNetLemmatizer()\n",
        "\n",
        "def stem_text(text):\n",
        "    words = word_tokenize(text)\n",
        "    stemmed_words = [stemmer.stem(word) for word in words]\n",
        "    return ' '.join(stemmed_words)\n",
        "\n",
        "def lemmatize_text(text):\n",
        "    words = word_tokenize(text)\n",
        "    lemmatized_words = [lemmatizer.lemmatize(word) for word in words]\n",
        "    return ' '.join(lemmatized_words)\n",
        "\n",
        "df['title'] = df['title'].apply(stem_text)\n",
        "df['author'] = df['author'].apply(stem_text)\n",
        "df['story'] = df['story'].apply(lemmatize_text)"
      ],
      "metadata": {
        "colab": {
          "base_uri": "https://localhost:8080/"
        },
        "id": "JM1K695H00Pd",
        "outputId": "4b4ab835-6afe-4884-9849-8fec1d522786"
      },
      "execution_count": 22,
      "outputs": [
        {
          "output_type": "stream",
          "name": "stderr",
          "text": [
            "[nltk_data] Downloading package punkt to /root/nltk_data...\n",
            "[nltk_data]   Package punkt is already up-to-date!\n",
            "[nltk_data] Downloading package wordnet to /root/nltk_data...\n",
            "[nltk_data]   Package wordnet is already up-to-date!\n"
          ]
        }
      ]
    },
    {
      "cell_type": "code",
      "source": [
        "# Removing extra spaces\n",
        "df['title'] = df['title'].apply(lambda x: ' '.join(x.split()))\n",
        "df['author'] = df['author'].apply(lambda x: ' '.join(x.split()))\n",
        "df['story'] = df['story'].apply(lambda x: ' '.join(x.split()))\n",
        "df['topic'] = df['topic'].apply(lambda x: ' '.join(x.split()))"
      ],
      "metadata": {
        "id": "iYQ9TN2E00Ma"
      },
      "execution_count": 23,
      "outputs": []
    },
    {
      "cell_type": "code",
      "source": [
        "# Removing URLs (if present)\n",
        "def remove_urls(text):\n",
        "    return re.sub(r'http\\S+', '', text)\n",
        "\n",
        "df['title'] = df['title'].apply(remove_urls)\n",
        "df['author'] = df['author'].apply(remove_urls)\n",
        "df['story'] = df['story'].apply(remove_urls)\n"
      ],
      "metadata": {
        "id": "RubOH3Vs00JO"
      },
      "execution_count": 24,
      "outputs": []
    },
    {
      "cell_type": "markdown",
      "source": [
        "###  Data Exploration and Analysis"
      ],
      "metadata": {
        "id": "vux02Y_B3HyG"
      }
    },
    {
      "cell_type": "code",
      "source": [
        "# Number of examples per class\n",
        "num_examples_per_class = df['topic'].value_counts()\n",
        "num_examples_per_class"
      ],
      "metadata": {
        "colab": {
          "base_uri": "https://localhost:8080/"
        },
        "id": "DX1q3RZg00GB",
        "outputId": "a0974864-37f9-4c93-af22-4179ec2f108d"
      },
      "execution_count": 25,
      "outputs": [
        {
          "output_type": "execute_result",
          "data": {
            "text/plain": [
              "art-et-culture    1000\n",
              "Name: topic, dtype: int64"
            ]
          },
          "metadata": {},
          "execution_count": 25
        }
      ]
    },
    {
      "cell_type": "code",
      "source": [
        "# lengths of examples in words and letters\n",
        "df['num_words'] = df['title'].apply(lambda x: len(str(x).split()))\n",
        "df['num_letters'] = df['title'].apply(lambda x: len(str(x)))"
      ],
      "metadata": {
        "id": "Dd6fLg_c00Cy"
      },
      "execution_count": 26,
      "outputs": []
    },
    {
      "cell_type": "code",
      "source": [
        "# Visualize number of examples per class\n",
        "plt.figure(figsize=(10, 6))\n",
        "num_examples_per_class.plot(kind='bar')\n",
        "plt.title('Number of Examples per Class')\n",
        "plt.xlabel('Class (Topic)')\n",
        "plt.ylabel('Number of Examples')\n",
        "plt.xticks(rotation=45)\n",
        "plt.tight_layout()\n",
        "plt.show()"
      ],
      "metadata": {
        "colab": {
          "base_uri": "https://localhost:8080/",
          "height": 607
        },
        "id": "NRcEM0w10z_r",
        "outputId": "2147b266-231b-4b5a-9994-8595f3cbb629"
      },
      "execution_count": 27,
      "outputs": [
        {
          "output_type": "display_data",
          "data": {
            "text/plain": [
              "<Figure size 1000x600 with 1 Axes>"
            ],
            "image/png": "[encoded data removed]"
          },
          "metadata": {}
        }
      ]
    },
    {
      "cell_type": "code",
      "source": [
        "# Visualize lengths of examples in words and letters\n",
        "plt.figure(figsize=(12, 6))\n",
        "plt.subplot(1, 2, 1)\n",
        "plt.hist(df['num_words'], bins=20, color='skyblue')\n",
        "plt.title('Distribution of Example Lengths in Words')\n",
        "plt.xlabel('Number of Words')\n",
        "plt.ylabel('Frequency')\n",
        "\n",
        "plt.subplot(1, 2, 2)\n",
        "plt.hist(df['num_letters'], bins=20, color='salmon')\n",
        "plt.title('Distribution of Example Lengths in Letters')\n",
        "plt.xlabel('Number of Letters')\n",
        "plt.ylabel('Frequency')\n",
        "\n",
        "plt.tight_layout()\n",
        "plt.show()\n"
      ],
      "metadata": {
        "colab": {
          "base_uri": "https://localhost:8080/",
          "height": 607
        },
        "id": "pre8FPub0z84",
        "outputId": "a80ec50c-59e8-4c82-ab9c-0fffbecf2624"
      },
      "execution_count": 28,
      "outputs": [
        {
          "output_type": "display_data",
          "data": {
            "text/plain": [
              "<Figure size 1200x600 with 2 Axes>"
            ],
            "image/png": "[encoded data removed]"
          },
          "metadata": {}
        }
      ]
    },
    {
      "cell_type": "code",
      "source": [
        "df.to_csv(\"report.csv\", index=False)"
      ],
      "metadata": {
        "id": "QU8WWIWK0z5s"
      },
      "execution_count": 29,
      "outputs": []
    },
    {
      "cell_type": "markdown",
      "source": [
        "## Data Preprocessing and Modeling"
      ],
      "metadata": {
        "id": "4WE-0wOl39n7"
      }
    },
    {
      "cell_type": "code",
      "source": [
        "#split data\n",
        "X= df[\"title\"]\n",
        "y=df[\"topic\"]"
      ],
      "metadata": {
        "id": "ZoQKTx07wKQy"
      },
      "execution_count": 43,
      "outputs": []
    },
    {
      "cell_type": "code",
      "source": [
        "text_data = df['title']\n",
        "tfidf_vectorizer = TfidfVectorizer()\n",
        "X = tfidf_vectorizer.fit_transform(text_data)"
      ],
      "metadata": {
        "id": "bTW3fbuw6cg3"
      },
      "execution_count": 48,
      "outputs": []
    },
    {
      "cell_type": "code",
      "source": [
        "encoder = LabelEncoder()\n",
        "y = encoder.fit_transform(df['topic'])"
      ],
      "metadata": {
        "id": "akqZSgobxZMq"
      },
      "execution_count": 49,
      "outputs": []
    },
    {
      "cell_type": "code",
      "source": [
        "\n",
        "X_train, X_test, y_train, y_test = train_test_split(X, y, test_size=0.2, random_state=42)\n"
      ],
      "metadata": {
        "id": "1ObLCqLH50PB"
      },
      "execution_count": 52,
      "outputs": []
    },
    {
      "cell_type": "code",
      "source": [
        "#random forest\n",
        "from sklearn.ensemble import RandomForestClassifier\n",
        "rf_clf = RandomForestClassifier()\n",
        "\n",
        "rf_clf = rf_clf.fit(X_train,y_train)\n",
        "\n",
        "\n",
        "y_pred = rf_clf.predict(X_test)\n",
        "\n",
        "y_train_acc = rf_clf.score(X_train, y_train)\n",
        "y_test_acc = rf_clf.score(X_test, y_test)\n",
        "\n",
        "print(f'train_accuracy:{y_train_acc}')\n",
        "print(f'test_accuracy{y_test_acc}')\n",
        "print(\"Accuracy:\",(y_pred))"
      ],
      "metadata": {
        "colab": {
          "base_uri": "https://localhost:8080/"
        },
        "id": "h7Hfwmn8-_rj",
        "outputId": "3909bbba-bab2-40e6-89de-fa9b24458e06"
      },
      "execution_count": 53,
      "outputs": [
        {
          "output_type": "stream",
          "name": "stdout",
          "text": [
            "train_accuracy:1.0\n",
            "test_accuracy1.0\n",
            "Accuracy: [0 0 0 0 0 0 0 0 0 0 0 0 0 0 0 0 0 0 0 0 0 0 0 0 0 0 0 0 0 0 0 0 0 0 0 0 0\n",
            " 0 0 0 0 0 0 0 0 0 0 0 0 0 0 0 0 0 0 0 0 0 0 0 0 0 0 0 0 0 0 0 0 0 0 0 0 0\n",
            " 0 0 0 0 0 0 0 0 0 0 0 0 0 0 0 0 0 0 0 0 0 0 0 0 0 0 0 0 0 0 0 0 0 0 0 0 0\n",
            " 0 0 0 0 0 0 0 0 0 0 0 0 0 0 0 0 0 0 0 0 0 0 0 0 0 0 0 0 0 0 0 0 0 0 0 0 0\n",
            " 0 0 0 0 0 0 0 0 0 0 0 0 0 0 0 0 0 0 0 0 0 0 0 0 0 0 0 0 0 0 0 0 0 0 0 0 0\n",
            " 0 0 0 0 0 0 0 0 0 0 0 0 0 0 0]\n"
          ]
        }
      ]
    },
    {
      "cell_type": "code",
      "source": [
        "from sklearn.metrics import classification_report\n",
        "report_model_rf = classification_report(y_test, y_pred)\n",
        "print(\"Classification Report (RandomForestClassifier):\")\n",
        "print(report_model_rf)"
      ],
      "metadata": {
        "colab": {
          "base_uri": "https://localhost:8080/"
        },
        "id": "FiYHiriU_A8T",
        "outputId": "82680d0e-cf59-4f6c-ca18-80fc46c64ca2"
      },
      "execution_count": 54,
      "outputs": [
        {
          "output_type": "stream",
          "name": "stdout",
          "text": [
            "Classification Report (RandomForestClassifier):\n",
            "              precision    recall  f1-score   support\n",
            "\n",
            "           0       1.00      1.00      1.00       200\n",
            "\n",
            "    accuracy                           1.00       200\n",
            "   macro avg       1.00      1.00      1.00       200\n",
            "weighted avg       1.00      1.00      1.00       200\n",
            "\n"
          ]
        }
      ]
    },
    {
      "cell_type": "markdown",
      "source": [
        "the RandomForestClassifier demonstrated excellent performance on the given\n",
        "\n",
        "binary classification task, achieving perfect precision, recall, and F1-score\n",
        "\n",
        " for the positive class. The model's accuracy of 100% further reinforces its strong predictive capability.\n",
        "\n",
        "And this short discription about concepts\n",
        "\n",
        "Precision measures the accuracy of positive predictions among all instances predicted as positive.\n",
        "\n",
        "Recall measures the ability of the model to correctly identify positive instances.\n",
        "\n",
        "F-score is the harmonic mean of precision and recall, providing a balanced score for evaluating binary classification models."
      ],
      "metadata": {
        "id": "OfK9RuGDyNB7"
      }
    },
    {
      "cell_type": "code",
      "source": [
        "#Decision tree\n",
        "from sklearn.tree import DecisionTreeClassifier\n",
        "\n",
        "clf = DecisionTreeClassifier()\n",
        "\n",
        "clf = clf.fit(X_train,y_train)\n",
        "\n",
        "\n",
        "y_pred = clf.predict(X_test)\n",
        "\n",
        "y_train_acc = clf.score(X_train, y_train)\n",
        "y_test_acc = clf.score(X_test, y_test)\n",
        "\n",
        "print(f'train_accuracy:{y_train_acc}')\n",
        "print(f'test_accuracy{y_test_acc}')\n",
        "print(\"Accuracy:\",(y_pred))"
      ],
      "metadata": {
        "colab": {
          "base_uri": "https://localhost:8080/"
        },
        "id": "mXf_xn_y_GcP",
        "outputId": "08346b0d-6469-4652-a63c-186e663a53b7"
      },
      "execution_count": 55,
      "outputs": [
        {
          "output_type": "stream",
          "name": "stdout",
          "text": [
            "train_accuracy:1.0\n",
            "test_accuracy1.0\n",
            "Accuracy: [0 0 0 0 0 0 0 0 0 0 0 0 0 0 0 0 0 0 0 0 0 0 0 0 0 0 0 0 0 0 0 0 0 0 0 0 0\n",
            " 0 0 0 0 0 0 0 0 0 0 0 0 0 0 0 0 0 0 0 0 0 0 0 0 0 0 0 0 0 0 0 0 0 0 0 0 0\n",
            " 0 0 0 0 0 0 0 0 0 0 0 0 0 0 0 0 0 0 0 0 0 0 0 0 0 0 0 0 0 0 0 0 0 0 0 0 0\n",
            " 0 0 0 0 0 0 0 0 0 0 0 0 0 0 0 0 0 0 0 0 0 0 0 0 0 0 0 0 0 0 0 0 0 0 0 0 0\n",
            " 0 0 0 0 0 0 0 0 0 0 0 0 0 0 0 0 0 0 0 0 0 0 0 0 0 0 0 0 0 0 0 0 0 0 0 0 0\n",
            " 0 0 0 0 0 0 0 0 0 0 0 0 0 0 0]\n"
          ]
        }
      ]
    },
    {
      "cell_type": "code",
      "source": [
        "from sklearn.metrics import classification_report\n",
        "report_model_dt = classification_report(y_test, y_pred)\n",
        "print(\"Classification Report (DecisionTreeClassifier):\")\n",
        "print(report_model_dt)"
      ],
      "metadata": {
        "colab": {
          "base_uri": "https://localhost:8080/"
        },
        "id": "5GEFyGqC_OOA",
        "outputId": "7248ec22-e6d7-4861-d086-ad37d956ade7"
      },
      "execution_count": 56,
      "outputs": [
        {
          "output_type": "stream",
          "name": "stdout",
          "text": [
            "Classification Report (DecisionTreeClassifier):\n",
            "              precision    recall  f1-score   support\n",
            "\n",
            "           0       1.00      1.00      1.00       200\n",
            "\n",
            "    accuracy                           1.00       200\n",
            "   macro avg       1.00      1.00      1.00       200\n",
            "weighted avg       1.00      1.00      1.00       200\n",
            "\n"
          ]
        }
      ]
    },
    {
      "cell_type": "markdown",
      "source": [
        "the Decision Tree demonstrated excellent performance on the given\n",
        "\n",
        "binary classification task, achieving perfect precision, recall, and F1-score\n",
        "\n",
        " for the positive class. The model's accuracy of 100% further reinforces its strong predictive capability.\n",
        "\n",
        "And this short discription about concepts\n",
        "\n",
        "Precision measures the accuracy of positive predictions among all instances predicted as positive.\n",
        "\n",
        "Recall measures the ability of the model to correctly identify positive instances.\n",
        "\n",
        "F-score is the harmonic mean of precision and recall, providing a balanced score for evaluating binary classification models."
      ],
      "metadata": {
        "id": "RPXNJW62zE2w"
      }
    },
    {
      "cell_type": "code",
      "source": [
        "#save model\n",
        "import joblib\n",
        "joblib.dump(rf_clf, 'Herpess_model.pkl')"
      ],
      "metadata": {
        "colab": {
          "base_uri": "https://localhost:8080/"
        },
        "id": "mmM9mmyxAHBB",
        "outputId": "9c5d1bf4-b50e-4a44-aee7-b167cd0a0997"
      },
      "execution_count": 60,
      "outputs": [
        {
          "output_type": "execute_result",
          "data": {
            "text/plain": [
              "['Herpess_model.pkl']"
            ]
          },
          "metadata": {},
          "execution_count": 60
        }
      ]
    },
    {
      "cell_type": "markdown",
      "source": [
        "Precision measures the accuracy of positive predictions among all instances predicted as positive.\n",
        "Recall measures the ability of the model to correctly identify positive instances.\n",
        "F-score is the harmonic mean of precision and recall, providing a balanced score for evaluating binary classification models."
      ],
      "metadata": {
        "id": "ZFUbbt2Amx_W"
      }
    }
  ]
}